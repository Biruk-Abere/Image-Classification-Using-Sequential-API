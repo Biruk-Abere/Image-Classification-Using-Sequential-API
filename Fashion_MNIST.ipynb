{
 "cells": [
  {
   "cell_type": "markdown",
   "id": "ebb6320a",
   "metadata": {},
   "source": [
    "# importing tensorflow and keras"
   ]
  },
  {
   "cell_type": "code",
   "execution_count": 2,
   "id": "0ae48241",
   "metadata": {},
   "outputs": [
    {
     "data": {
      "text/plain": [
       "'2.6.0'"
      ]
     },
     "execution_count": 2,
     "metadata": {},
     "output_type": "execute_result"
    }
   ],
   "source": [
    "import tensorflow as tf\n",
    "tf.__version__\n"
   ]
  },
  {
   "cell_type": "code",
   "execution_count": 3,
   "id": "ae397990",
   "metadata": {},
   "outputs": [
    {
     "data": {
      "text/plain": [
       "'2.6.0'"
      ]
     },
     "execution_count": 3,
     "metadata": {},
     "output_type": "execute_result"
    }
   ],
   "source": [
    "from tensorflow import keras\n",
    "keras.__version__"
   ]
  },
  {
   "cell_type": "markdown",
   "id": "d9039459",
   "metadata": {},
   "source": [
    "# Fetch and Load the Dataset"
   ]
  },
  {
   "cell_type": "code",
   "execution_count": 4,
   "id": "daa3dbfd",
   "metadata": {},
   "outputs": [],
   "source": [
    "fashion_cloth = keras.datasets.fashion_mnist\n",
    "(X_train , y_train) ,  (X_test , y_test )= fashion_cloth.load_data()\n"
   ]
  },
  {
   "cell_type": "raw",
   "id": "4be640ce",
   "metadata": {},
   "source": [
    "# When loading MNIST or Fashion MNIST using Keras rather than Scikit-Learn, one important difference \n",
    "# is that every image is represented as a 28 × 28 array rather than a 1D array of size 784. Moreover, the pixel\n",
    "# intensities are represented as integers (from 0 to 255) rather than floats (from 0.0 to 255.0).\n",
    "# Let’s take a look at the shape and data type of the training set:"
   ]
  },
  {
   "cell_type": "code",
   "execution_count": 5,
   "id": "3656b81e",
   "metadata": {
    "scrolled": true
   },
   "outputs": [
    {
     "name": "stdout",
     "output_type": "stream",
     "text": [
      "(60000, 28, 28) (10000, 28, 28)\n"
     ]
    }
   ],
   "source": [
    "print(X_train.shape , X_test.shape)"
   ]
  },
  {
   "cell_type": "code",
   "execution_count": 6,
   "id": "89393296",
   "metadata": {},
   "outputs": [
    {
     "name": "stdout",
     "output_type": "stream",
     "text": [
      "(60000,) (10000,)\n"
     ]
    }
   ],
   "source": [
    "print(y_train.shape , y_test.shape)"
   ]
  },
  {
   "cell_type": "code",
   "execution_count": 7,
   "id": "fd87f362",
   "metadata": {},
   "outputs": [
    {
     "name": "stdout",
     "output_type": "stream",
     "text": [
      "uint8 uint8\n"
     ]
    }
   ],
   "source": [
    "print(X_train.dtype , X_test.dtype)"
   ]
  },
  {
   "cell_type": "code",
   "execution_count": 8,
   "id": "a4d2b90d",
   "metadata": {},
   "outputs": [
    {
     "name": "stdout",
     "output_type": "stream",
     "text": [
      "uint8 uint8\n"
     ]
    }
   ],
   "source": [
    "print(y_train.dtype , y_test.dtype)"
   ]
  },
  {
   "cell_type": "code",
   "execution_count": 9,
   "id": "a7560c9b",
   "metadata": {},
   "outputs": [],
   "source": [
    "# The first five outputs"
   ]
  },
  {
   "cell_type": "code",
   "execution_count": 10,
   "id": "cb5fa537",
   "metadata": {
    "scrolled": true
   },
   "outputs": [
    {
     "name": "stdout",
     "output_type": "stream",
     "text": [
      "[9 0 0 3 0]\n"
     ]
    }
   ],
   "source": [
    "print(y_train[0:5])"
   ]
  },
  {
   "cell_type": "code",
   "execution_count": 11,
   "id": "7b1b78ea",
   "metadata": {
    "scrolled": true
   },
   "outputs": [
    {
     "data": {
      "image/png": "[encoded data removed]",
      "text/plain": [
       "<Figure size 432x288 with 2 Axes>"
      ]
     },
     "metadata": {
      "needs_background": "light"
     },
     "output_type": "display_data"
    }
   ],
   "source": [
    "import matplotlib.pyplot as plt\n",
    "plt.figure()\n",
    "plt.imshow(X_train[1])\n",
    "plt.colorbar()\n",
    "plt.show()"
   ]
  },
  {
   "cell_type": "code",
   "execution_count": 12,
   "id": "b4d4c316",
   "metadata": {},
   "outputs": [],
   "source": [
    "# since we are going to train the neural network using Gradient Descent, we must scale the input features. \n",
    "# For simplicity, we’ll scale the pixel intensities down to the 0–1 range by dividing them by 255.0 \n",
    "# (this also converts them to floats):"
   ]
  },
  {
   "cell_type": "code",
   "execution_count": 13,
   "id": "a9489966",
   "metadata": {},
   "outputs": [],
   "source": [
    "X_valid , X_train = X_train[:5000] , X_train[5000:]\n",
    "y_valid , y_train = y_train[:5000] , y_train[5000:]"
   ]
  },
  {
   "cell_type": "code",
   "execution_count": 14,
   "id": "fb41b278",
   "metadata": {
    "scrolled": true
   },
   "outputs": [
    {
     "name": "stdout",
     "output_type": "stream",
     "text": [
      "(5000, 28, 28) (55000, 28, 28)\n"
     ]
    }
   ],
   "source": [
    "print(X_valid.shape , X_train.shape)"
   ]
  },
  {
   "cell_type": "code",
   "execution_count": 15,
   "id": "b2d6abb6",
   "metadata": {
    "scrolled": true
   },
   "outputs": [
    {
     "name": "stdout",
     "output_type": "stream",
     "text": [
      "(5000,) (55000,)\n"
     ]
    }
   ],
   "source": [
    "print(y_valid.shape , y_train.shape)"
   ]
  },
  {
   "cell_type": "code",
   "execution_count": 16,
   "id": "22bd556e",
   "metadata": {},
   "outputs": [],
   "source": [
    "X_train_image = X_train/255.0\n",
    "X_test_image = X_test/255.0"
   ]
  },
  {
   "cell_type": "code",
   "execution_count": 17,
   "id": "0a56aa44",
   "metadata": {},
   "outputs": [],
   "source": [
    "X_valid_image = X_valid/255.0"
   ]
  },
  {
   "cell_type": "code",
   "execution_count": 18,
   "id": "265727fb",
   "metadata": {
    "scrolled": false
   },
   "outputs": [
    {
     "name": "stdout",
     "output_type": "stream",
     "text": [
      "float64 float64\n"
     ]
    }
   ],
   "source": [
    "print(X_train_image.dtype , X_test_image.dtype)"
   ]
  },
  {
   "cell_type": "code",
   "execution_count": 19,
   "id": "15c4a27d",
   "metadata": {},
   "outputs": [
    {
     "name": "stdout",
     "output_type": "stream",
     "text": [
      "float64\n"
     ]
    }
   ],
   "source": [
    "print(X_valid_image.dtype)"
   ]
  },
  {
   "cell_type": "code",
   "execution_count": 20,
   "id": "7c29aba3",
   "metadata": {},
   "outputs": [],
   "source": [
    "# With MNIST, when the label is equal to 5, it means that the image represents the handwritten digit 5. \n",
    "# Easy. For Fashion MNIST, however, we need the list of class names to know what we are dealing with:"
   ]
  },
  {
   "cell_type": "code",
   "execution_count": 21,
   "id": "bd30436d",
   "metadata": {},
   "outputs": [],
   "source": [
    "class_names = [\"T-shirt/top\", \"Trouser\", \"Pullover\", \"Dress\", \"Coat\",\n",
    "\"Sandal\", \"Shirt\", \"Sneaker\", \"Bag\", \"Ankle boot\"]"
   ]
  },
  {
   "cell_type": "code",
   "execution_count": 22,
   "id": "8473bdf1",
   "metadata": {},
   "outputs": [
    {
     "data": {
      "image/png": "[encoded data removed]",
      "text/plain": [
       "<Figure size 720x720 with 25 Axes>"
      ]
     },
     "metadata": {},
     "output_type": "display_data"
    }
   ],
   "source": [
    "import matplotlib.pyplot as plt\n",
    "%matplotlib inline\n",
    "\n",
    "plt.figure(figsize=(10 , 10))\n",
    "for i in range(25):\n",
    "    plt.subplot(5 , 5 , i+1)\n",
    "    plt.xticks([])\n",
    "    plt.yticks([])\n",
    "    plt.grid('off')\n",
    "    plt.imshow(X_train_image[i] , cmap = 'gray_r')\n",
    "    plt.xlabel(class_names[y_train[i]])"
   ]
  },
  {
   "cell_type": "markdown",
   "id": "1b6c2415",
   "metadata": {},
   "source": [
    "# Ways Of Creating A Sequential API \n"
   ]
  },
  {
   "cell_type": "code",
   "execution_count": 23,
   "id": "e45690e9",
   "metadata": {},
   "outputs": [],
   "source": [
    "from tensorflow.keras.models import Sequential\n",
    "from tensorflow.keras.layers import Flatten\n",
    "from tensorflow.keras.layers import Dense\n",
    "from tensorflow.keras import activations\n",
    "model1 = Sequential()\n",
    "model1.add(Flatten(input_shape=[28, 28]))\n",
    "model1.add(Dense(300, activation=activations.relu))\n",
    "model1.add(Dense(100, activation=activations.relu))\n",
    "model1.add(Dense(10, activation=activations.softmax))\n"
   ]
  },
  {
   "cell_type": "code",
   "execution_count": 24,
   "id": "c99dade2",
   "metadata": {},
   "outputs": [],
   "source": [
    "from tensorflow import keras\n",
    "model1 = keras.models.Sequential()\n",
    "model1.add(keras.layers.Flatten(input_shape =[28 , 28]))\n",
    "model1.add(keras.layers.Dense(300 , activation='relu'))\n",
    "model1.add(keras.layers.Dense(100 , activation='relu'))\n",
    "model1.add(keras.layers.Dense(10 , activation='softmax'))\n"
   ]
  },
  {
   "cell_type": "code",
   "execution_count": 25,
   "id": "0faf5b3e",
   "metadata": {},
   "outputs": [],
   "source": [
    "from tensorflow import keras\n",
    "model = keras.models.Sequential([\n",
    "    keras.layers.Flatten(input_shape =[28 , 28]),\n",
    "    keras.layers.Dense(300, activation=\"relu\"),\n",
    "    keras.layers.Dense(100 , activation='relu'),\n",
    "    keras.layers.Dense(10 , activation='softmax')\n",
    "])"
   ]
  },
  {
   "cell_type": "markdown",
   "id": "b5f4864f",
   "metadata": {},
   "source": [
    "# Model Summary"
   ]
  },
  {
   "cell_type": "code",
   "execution_count": 26,
   "id": "1325179b",
   "metadata": {
    "scrolled": true
   },
   "outputs": [
    {
     "name": "stdout",
     "output_type": "stream",
     "text": [
      "Model: \"sequential_2\"\n",
      "_________________________________________________________________\n",
      "Layer (type)                 Output Shape              Param #   \n",
      "=================================================================\n",
      "flatten_2 (Flatten)          (None, 784)               0         \n",
      "_________________________________________________________________\n",
      "dense_6 (Dense)              (None, 300)               235500    \n",
      "_________________________________________________________________\n",
      "dense_7 (Dense)              (None, 100)               30100     \n",
      "_________________________________________________________________\n",
      "dense_8 (Dense)              (None, 10)                1010      \n",
      "=================================================================\n",
      "Total params: 266,610\n",
      "Trainable params: 266,610\n",
      "Non-trainable params: 0\n",
      "_________________________________________________________________\n"
     ]
    }
   ],
   "source": [
    "model.summary()"
   ]
  },
  {
   "cell_type": "markdown",
   "id": "943d0aac",
   "metadata": {},
   "source": [
    "# Name Of The Layers and Get Weights"
   ]
  },
  {
   "cell_type": "code",
   "execution_count": 27,
   "id": "1714c20b",
   "metadata": {},
   "outputs": [],
   "source": [
    "# You can easily get a model’s list of layers, to fetch a layer by its index,\n",
    "# or you can fetch it by name:"
   ]
  },
  {
   "cell_type": "code",
   "execution_count": 28,
   "id": "b6b1d600",
   "metadata": {
    "scrolled": true
   },
   "outputs": [
    {
     "data": {
      "text/plain": [
       "[<keras.layers.core.Flatten at 0x7fda705ae5e0>,\n",
       " <keras.layers.core.Dense at 0x7fda2fc8bac0>,\n",
       " <keras.layers.core.Dense at 0x7fd9f0cff790>,\n",
       " <keras.layers.core.Dense at 0x7fd9f0cff730>]"
      ]
     },
     "execution_count": 28,
     "metadata": {},
     "output_type": "execute_result"
    }
   ],
   "source": [
    "model.layers"
   ]
  },
  {
   "cell_type": "code",
   "execution_count": 29,
   "id": "1705febf",
   "metadata": {},
   "outputs": [],
   "source": [
    "hidden1= model.layers[1]"
   ]
  },
  {
   "cell_type": "code",
   "execution_count": 30,
   "id": "61db065e",
   "metadata": {},
   "outputs": [
    {
     "data": {
      "text/plain": [
       "'dense_6'"
      ]
     },
     "execution_count": 30,
     "metadata": {},
     "output_type": "execute_result"
    }
   ],
   "source": [
    "hidden1.name"
   ]
  },
  {
   "cell_type": "code",
   "execution_count": 31,
   "id": "adb4616d",
   "metadata": {},
   "outputs": [],
   "source": [
    "weights , biases= hidden1.get_weights()\n"
   ]
  },
  {
   "cell_type": "code",
   "execution_count": 32,
   "id": "29020141",
   "metadata": {},
   "outputs": [],
   "source": [
    "# Randomly Initialized Weights , to avoid symmetry"
   ]
  },
  {
   "cell_type": "code",
   "execution_count": 33,
   "id": "1bb70f31",
   "metadata": {
    "scrolled": true
   },
   "outputs": [
    {
     "name": "stdout",
     "output_type": "stream",
     "text": [
      "[[-0.03399783  0.00891647 -0.01866664 ... -0.03663654 -0.04177564\n",
      "  -0.0493339 ]\n",
      " [-0.00946014 -0.02782402 -0.05889514 ...  0.03751629  0.03287404\n",
      "   0.05106252]\n",
      " [ 0.02459896  0.01930022  0.06457363 ...  0.01374599 -0.05961849\n",
      "   0.06714362]\n",
      " ...\n",
      " [-0.03704675  0.02300972  0.05418816 ...  0.03329998  0.03305144\n",
      "  -0.05358634]\n",
      " [-0.02900194  0.03246311 -0.01493763 ... -0.05527736 -0.01991111\n",
      "  -0.0557047 ]\n",
      " [-0.04444537  0.04101329 -0.05855468 ... -0.03448799  0.06708179\n",
      "  -0.07437816]]\n"
     ]
    }
   ],
   "source": [
    "print(weights)"
   ]
  },
  {
   "cell_type": "code",
   "execution_count": 34,
   "id": "0e394a03",
   "metadata": {},
   "outputs": [
    {
     "data": {
      "text/plain": [
       "(784, 300)"
      ]
     },
     "execution_count": 34,
     "metadata": {},
     "output_type": "execute_result"
    }
   ],
   "source": [
    "weights.shape"
   ]
  },
  {
   "cell_type": "code",
   "execution_count": 35,
   "id": "5fe5f30c",
   "metadata": {},
   "outputs": [],
   "source": [
    "# Initialize all of the biases by 0"
   ]
  },
  {
   "cell_type": "code",
   "execution_count": 36,
   "id": "c29ce44b",
   "metadata": {},
   "outputs": [
    {
     "data": {
      "text/plain": [
       "array([0., 0., 0., 0., 0., 0., 0., 0., 0., 0., 0., 0., 0., 0., 0., 0., 0.,\n",
       "       0., 0., 0., 0., 0., 0., 0., 0., 0., 0., 0., 0., 0., 0., 0., 0., 0.,\n",
       "       0., 0., 0., 0., 0., 0., 0., 0., 0., 0., 0., 0., 0., 0., 0., 0., 0.,\n",
       "       0., 0., 0., 0., 0., 0., 0., 0., 0., 0., 0., 0., 0., 0., 0., 0., 0.,\n",
       "       0., 0., 0., 0., 0., 0., 0., 0., 0., 0., 0., 0., 0., 0., 0., 0., 0.,\n",
       "       0., 0., 0., 0., 0., 0., 0., 0., 0., 0., 0., 0., 0., 0., 0., 0., 0.,\n",
       "       0., 0., 0., 0., 0., 0., 0., 0., 0., 0., 0., 0., 0., 0., 0., 0., 0.,\n",
       "       0., 0., 0., 0., 0., 0., 0., 0., 0., 0., 0., 0., 0., 0., 0., 0., 0.,\n",
       "       0., 0., 0., 0., 0., 0., 0., 0., 0., 0., 0., 0., 0., 0., 0., 0., 0.,\n",
       "       0., 0., 0., 0., 0., 0., 0., 0., 0., 0., 0., 0., 0., 0., 0., 0., 0.,\n",
       "       0., 0., 0., 0., 0., 0., 0., 0., 0., 0., 0., 0., 0., 0., 0., 0., 0.,\n",
       "       0., 0., 0., 0., 0., 0., 0., 0., 0., 0., 0., 0., 0., 0., 0., 0., 0.,\n",
       "       0., 0., 0., 0., 0., 0., 0., 0., 0., 0., 0., 0., 0., 0., 0., 0., 0.,\n",
       "       0., 0., 0., 0., 0., 0., 0., 0., 0., 0., 0., 0., 0., 0., 0., 0., 0.,\n",
       "       0., 0., 0., 0., 0., 0., 0., 0., 0., 0., 0., 0., 0., 0., 0., 0., 0.,\n",
       "       0., 0., 0., 0., 0., 0., 0., 0., 0., 0., 0., 0., 0., 0., 0., 0., 0.,\n",
       "       0., 0., 0., 0., 0., 0., 0., 0., 0., 0., 0., 0., 0., 0., 0., 0., 0.,\n",
       "       0., 0., 0., 0., 0., 0., 0., 0., 0., 0., 0.], dtype=float32)"
      ]
     },
     "execution_count": 36,
     "metadata": {},
     "output_type": "execute_result"
    }
   ],
   "source": [
    "biases"
   ]
  },
  {
   "cell_type": "code",
   "execution_count": 37,
   "id": "2c8e6428",
   "metadata": {},
   "outputs": [
    {
     "name": "stdout",
     "output_type": "stream",
     "text": [
      "(300,)\n"
     ]
    }
   ],
   "source": [
    "print(biases.shape)"
   ]
  },
  {
   "cell_type": "code",
   "execution_count": 38,
   "id": "cabe179d",
   "metadata": {},
   "outputs": [
    {
     "data": {
      "text/plain": [
       "'dense_7'"
      ]
     },
     "execution_count": 38,
     "metadata": {},
     "output_type": "execute_result"
    }
   ],
   "source": [
    "# The Weights and the Layers in the second layer\n",
    "hidden2= model.layers[2]\n",
    "hidden2.name"
   ]
  },
  {
   "cell_type": "code",
   "execution_count": 39,
   "id": "06a56d04",
   "metadata": {},
   "outputs": [
    {
     "name": "stdout",
     "output_type": "stream",
     "text": [
      "[[-0.04006894 -0.03976006 -0.08767439 ... -0.02857391  0.07472689\n",
      "   0.02000613]\n",
      " [ 0.104591    0.02536043 -0.06828272 ... -0.11789592 -0.08090965\n",
      "  -0.10618346]\n",
      " [ 0.06592705  0.11319698 -0.10426375 ...  0.09695072  0.07419565\n",
      "  -0.01859307]\n",
      " ...\n",
      " [ 0.09413231 -0.07876489 -0.01738092 ... -0.06071786  0.09248618\n",
      "  -0.005236  ]\n",
      " [-0.06879609 -0.01503731  0.11075095 ...  0.03079139 -0.07907316\n",
      "   0.05102456]\n",
      " [ 0.07264528 -0.00620934 -0.07266313 ... -0.09091763  0.09921771\n",
      "  -0.0376782 ]]\n"
     ]
    }
   ],
   "source": [
    "weights_second , biases_second= hidden2.get_weights()\n",
    "print(weights_second)"
   ]
  },
  {
   "cell_type": "code",
   "execution_count": 40,
   "id": "bafebf8d",
   "metadata": {},
   "outputs": [
    {
     "name": "stdout",
     "output_type": "stream",
     "text": [
      "(300, 100)\n"
     ]
    }
   ],
   "source": [
    "print(weights_second.shape)"
   ]
  },
  {
   "cell_type": "code",
   "execution_count": 41,
   "id": "78708a24",
   "metadata": {},
   "outputs": [
    {
     "name": "stdout",
     "output_type": "stream",
     "text": [
      "[0. 0. 0. 0. 0. 0. 0. 0. 0. 0. 0. 0. 0. 0. 0. 0. 0. 0. 0. 0. 0. 0. 0. 0.\n",
      " 0. 0. 0. 0. 0. 0. 0. 0. 0. 0. 0. 0. 0. 0. 0. 0. 0. 0. 0. 0. 0. 0. 0. 0.\n",
      " 0. 0. 0. 0. 0. 0. 0. 0. 0. 0. 0. 0. 0. 0. 0. 0. 0. 0. 0. 0. 0. 0. 0. 0.\n",
      " 0. 0. 0. 0. 0. 0. 0. 0. 0. 0. 0. 0. 0. 0. 0. 0. 0. 0. 0. 0. 0. 0. 0. 0.\n",
      " 0. 0. 0. 0.]\n"
     ]
    }
   ],
   "source": [
    "print(biases_second)"
   ]
  },
  {
   "cell_type": "markdown",
   "id": "fdf26860",
   "metadata": {},
   "source": [
    "# Compile The Model"
   ]
  },
  {
   "cell_type": "code",
   "execution_count": 42,
   "id": "99d7a543",
   "metadata": {},
   "outputs": [],
   "source": [
    "model.compile(loss='sparse_categorical_crossentropy' , optimizer='sgd' , metrics=['accuracy'])"
   ]
  },
  {
   "cell_type": "code",
   "execution_count": 43,
   "id": "fe93b5da",
   "metadata": {},
   "outputs": [],
   "source": [
    "# there is another way to compile"
   ]
  },
  {
   "cell_type": "code",
   "execution_count": 44,
   "id": "0600e926",
   "metadata": {},
   "outputs": [],
   "source": [
    "model.compile(loss=keras.losses.sparse_categorical_crossentropy , optimizer = keras.optimizers.SGD() , \n",
    "              metrics = [keras.metrics.sparse_categorical_accuracy])"
   ]
  },
  {
   "cell_type": "markdown",
   "id": "4fe58c10",
   "metadata": {},
   "source": [
    "# Traning and Evaluating the Model"
   ]
  },
  {
   "cell_type": "code",
   "execution_count": 45,
   "id": "8868e74c",
   "metadata": {},
   "outputs": [
    {
     "name": "stdout",
     "output_type": "stream",
     "text": [
      "(5000, 28, 28) (5000,)\n"
     ]
    }
   ],
   "source": [
    "print(X_valid_image.shape , y_valid.shape)"
   ]
  },
  {
   "cell_type": "code",
   "execution_count": 46,
   "id": "062f0dab",
   "metadata": {
    "scrolled": true
   },
   "outputs": [
    {
     "name": "stdout",
     "output_type": "stream",
     "text": [
      "Epoch 1/30\n",
      "1719/1719 [==============================] - 8s 4ms/step - loss: 0.7257 - sparse_categorical_accuracy: 0.7619 - val_loss: 0.5136 - val_sparse_categorical_accuracy: 0.8320\n",
      "Epoch 2/30\n",
      "1719/1719 [==============================] - 7s 4ms/step - loss: 0.4907 - sparse_categorical_accuracy: 0.8294 - val_loss: 0.4882 - val_sparse_categorical_accuracy: 0.8274\n",
      "Epoch 3/30\n",
      "1719/1719 [==============================] - 7s 4ms/step - loss: 0.4444 - sparse_categorical_accuracy: 0.8443 - val_loss: 0.4149 - val_sparse_categorical_accuracy: 0.8596\n",
      "Epoch 4/30\n",
      "1719/1719 [==============================] - 7s 4ms/step - loss: 0.4154 - sparse_categorical_accuracy: 0.8541 - val_loss: 0.3995 - val_sparse_categorical_accuracy: 0.8624\n",
      "Epoch 5/30\n",
      "1719/1719 [==============================] - 7s 4ms/step - loss: 0.3942 - sparse_categorical_accuracy: 0.8602 - val_loss: 0.3804 - val_sparse_categorical_accuracy: 0.8690\n",
      "Epoch 6/30\n",
      "1719/1719 [==============================] - 7s 4ms/step - loss: 0.3786 - sparse_categorical_accuracy: 0.8668 - val_loss: 0.3774 - val_sparse_categorical_accuracy: 0.8698\n",
      "Epoch 7/30\n",
      "1719/1719 [==============================] - 7s 4ms/step - loss: 0.3654 - sparse_categorical_accuracy: 0.8706 - val_loss: 0.3691 - val_sparse_categorical_accuracy: 0.8716\n",
      "Epoch 8/30\n",
      "1719/1719 [==============================] - 7s 4ms/step - loss: 0.3523 - sparse_categorical_accuracy: 0.8763 - val_loss: 0.3676 - val_sparse_categorical_accuracy: 0.8692\n",
      "Epoch 9/30\n",
      "1719/1719 [==============================] - 7s 4ms/step - loss: 0.3422 - sparse_categorical_accuracy: 0.8775 - val_loss: 0.3413 - val_sparse_categorical_accuracy: 0.8782\n",
      "Epoch 10/30\n",
      "1719/1719 [==============================] - 7s 4ms/step - loss: 0.3328 - sparse_categorical_accuracy: 0.8819 - val_loss: 0.3392 - val_sparse_categorical_accuracy: 0.8836\n",
      "Epoch 11/30\n",
      "1719/1719 [==============================] - 7s 4ms/step - loss: 0.3247 - sparse_categorical_accuracy: 0.8839 - val_loss: 0.3535 - val_sparse_categorical_accuracy: 0.8734\n",
      "Epoch 12/30\n",
      "1719/1719 [==============================] - 7s 4ms/step - loss: 0.3157 - sparse_categorical_accuracy: 0.8861 - val_loss: 0.3262 - val_sparse_categorical_accuracy: 0.8846\n",
      "Epoch 13/30\n",
      "1719/1719 [==============================] - 7s 4ms/step - loss: 0.3100 - sparse_categorical_accuracy: 0.8882 - val_loss: 0.3317 - val_sparse_categorical_accuracy: 0.8822\n",
      "Epoch 14/30\n",
      "1719/1719 [==============================] - 7s 4ms/step - loss: 0.3027 - sparse_categorical_accuracy: 0.8916 - val_loss: 0.3349 - val_sparse_categorical_accuracy: 0.8764\n",
      "Epoch 15/30\n",
      "1719/1719 [==============================] - 7s 4ms/step - loss: 0.2965 - sparse_categorical_accuracy: 0.8928 - val_loss: 0.3219 - val_sparse_categorical_accuracy: 0.8854\n",
      "Epoch 16/30\n",
      "1719/1719 [==============================] - 7s 4ms/step - loss: 0.2900 - sparse_categorical_accuracy: 0.8955 - val_loss: 0.3131 - val_sparse_categorical_accuracy: 0.8900\n",
      "Epoch 17/30\n",
      "1719/1719 [==============================] - 7s 4ms/step - loss: 0.2845 - sparse_categorical_accuracy: 0.8975 - val_loss: 0.3201 - val_sparse_categorical_accuracy: 0.8866\n",
      "Epoch 18/30\n",
      "1719/1719 [==============================] - 7s 4ms/step - loss: 0.2791 - sparse_categorical_accuracy: 0.8995 - val_loss: 0.3162 - val_sparse_categorical_accuracy: 0.8890\n",
      "Epoch 19/30\n",
      "1719/1719 [==============================] - 7s 4ms/step - loss: 0.2739 - sparse_categorical_accuracy: 0.9008 - val_loss: 0.3116 - val_sparse_categorical_accuracy: 0.8896\n",
      "Epoch 20/30\n",
      "1719/1719 [==============================] - 7s 4ms/step - loss: 0.2690 - sparse_categorical_accuracy: 0.9028 - val_loss: 0.3011 - val_sparse_categorical_accuracy: 0.8896\n",
      "Epoch 21/30\n",
      "1719/1719 [==============================] - 7s 4ms/step - loss: 0.2629 - sparse_categorical_accuracy: 0.9043 - val_loss: 0.3135 - val_sparse_categorical_accuracy: 0.8876\n",
      "Epoch 22/30\n",
      "1719/1719 [==============================] - 7s 4ms/step - loss: 0.2588 - sparse_categorical_accuracy: 0.9073 - val_loss: 0.3022 - val_sparse_categorical_accuracy: 0.8930\n",
      "Epoch 23/30\n",
      "1719/1719 [==============================] - 7s 4ms/step - loss: 0.2551 - sparse_categorical_accuracy: 0.9075 - val_loss: 0.3191 - val_sparse_categorical_accuracy: 0.8870\n",
      "Epoch 24/30\n",
      "1719/1719 [==============================] - 7s 4ms/step - loss: 0.2496 - sparse_categorical_accuracy: 0.9097 - val_loss: 0.2964 - val_sparse_categorical_accuracy: 0.8930\n",
      "Epoch 25/30\n",
      "1719/1719 [==============================] - 7s 4ms/step - loss: 0.2457 - sparse_categorical_accuracy: 0.9105 - val_loss: 0.2965 - val_sparse_categorical_accuracy: 0.8944\n",
      "Epoch 26/30\n",
      "1719/1719 [==============================] - 7s 4ms/step - loss: 0.2425 - sparse_categorical_accuracy: 0.9129 - val_loss: 0.2997 - val_sparse_categorical_accuracy: 0.8912\n",
      "Epoch 27/30\n",
      "1719/1719 [==============================] - 8s 4ms/step - loss: 0.2383 - sparse_categorical_accuracy: 0.9145 - val_loss: 0.2998 - val_sparse_categorical_accuracy: 0.8920\n",
      "Epoch 28/30\n",
      "1719/1719 [==============================] - 7s 4ms/step - loss: 0.2340 - sparse_categorical_accuracy: 0.9148 - val_loss: 0.3024 - val_sparse_categorical_accuracy: 0.8914\n",
      "Epoch 29/30\n",
      "1719/1719 [==============================] - 7s 4ms/step - loss: 0.2317 - sparse_categorical_accuracy: 0.9165 - val_loss: 0.2968 - val_sparse_categorical_accuracy: 0.8964\n",
      "Epoch 30/30\n",
      "1719/1719 [==============================] - 7s 4ms/step - loss: 0.2259 - sparse_categorical_accuracy: 0.9185 - val_loss: 0.3005 - val_sparse_categorical_accuracy: 0.8924\n"
     ]
    }
   ],
   "source": [
    "history = model.fit(X_train_image , y_train , epochs=30 , validation_data = (X_valid_image , y_valid))\n"
   ]
  },
  {
   "cell_type": "code",
   "execution_count": 47,
   "id": "7ae5f4c6",
   "metadata": {},
   "outputs": [
    {
     "data": {
      "text/plain": [
       "{'verbose': 1, 'epochs': 30, 'steps': 1719}"
      ]
     },
     "execution_count": 47,
     "metadata": {},
     "output_type": "execute_result"
    }
   ],
   "source": [
    "history.params"
   ]
  },
  {
   "cell_type": "code",
   "execution_count": 48,
   "id": "bf2b32fb",
   "metadata": {},
   "outputs": [
    {
     "data": {
      "text/plain": [
       "[0,\n",
       " 1,\n",
       " 2,\n",
       " 3,\n",
       " 4,\n",
       " 5,\n",
       " 6,\n",
       " 7,\n",
       " 8,\n",
       " 9,\n",
       " 10,\n",
       " 11,\n",
       " 12,\n",
       " 13,\n",
       " 14,\n",
       " 15,\n",
       " 16,\n",
       " 17,\n",
       " 18,\n",
       " 19,\n",
       " 20,\n",
       " 21,\n",
       " 22,\n",
       " 23,\n",
       " 24,\n",
       " 25,\n",
       " 26,\n",
       " 27,\n",
       " 28,\n",
       " 29]"
      ]
     },
     "execution_count": 48,
     "metadata": {},
     "output_type": "execute_result"
    }
   ],
   "source": [
    "history.epoch"
   ]
  },
  {
   "cell_type": "code",
   "execution_count": 49,
   "id": "27543096",
   "metadata": {
    "scrolled": true
   },
   "outputs": [
    {
     "data": {
      "text/plain": [
       "{'loss': [0.7256861925125122,\n",
       "  0.4906933605670929,\n",
       "  0.4444184899330139,\n",
       "  0.41542860865592957,\n",
       "  0.3941616415977478,\n",
       "  0.37864887714385986,\n",
       "  0.3653862178325653,\n",
       "  0.35228610038757324,\n",
       "  0.3422378599643707,\n",
       "  0.33280569314956665,\n",
       "  0.3246994614601135,\n",
       "  0.31573715806007385,\n",
       "  0.31002548336982727,\n",
       "  0.302712082862854,\n",
       "  0.29652532935142517,\n",
       "  0.2900121510028839,\n",
       "  0.28454068303108215,\n",
       "  0.2791195809841156,\n",
       "  0.27388978004455566,\n",
       "  0.26897314190864563,\n",
       "  0.2629047632217407,\n",
       "  0.2588421106338501,\n",
       "  0.25509440898895264,\n",
       "  0.24958787858486176,\n",
       "  0.24571438133716583,\n",
       "  0.2424594759941101,\n",
       "  0.23830153048038483,\n",
       "  0.233991339802742,\n",
       "  0.23169323801994324,\n",
       "  0.22586573660373688],\n",
       " 'sparse_categorical_accuracy': [0.7619090676307678,\n",
       "  0.8294000029563904,\n",
       "  0.8443272709846497,\n",
       "  0.8540727496147156,\n",
       "  0.8602363467216492,\n",
       "  0.8667636513710022,\n",
       "  0.8705818057060242,\n",
       "  0.8763090968132019,\n",
       "  0.8775454759597778,\n",
       "  0.8818727135658264,\n",
       "  0.8838545680046082,\n",
       "  0.8860909342765808,\n",
       "  0.8881818056106567,\n",
       "  0.8915636539459229,\n",
       "  0.892763614654541,\n",
       "  0.8955090641975403,\n",
       "  0.897490918636322,\n",
       "  0.8994908928871155,\n",
       "  0.9008363485336304,\n",
       "  0.9027636647224426,\n",
       "  0.9042909145355225,\n",
       "  0.9073272943496704,\n",
       "  0.9074545502662659,\n",
       "  0.909745454788208,\n",
       "  0.9105454683303833,\n",
       "  0.9129272699356079,\n",
       "  0.9144726991653442,\n",
       "  0.9147999882698059,\n",
       "  0.9165454506874084,\n",
       "  0.9185454249382019],\n",
       " 'val_loss': [0.5135520696640015,\n",
       "  0.48815640807151794,\n",
       "  0.4148833453655243,\n",
       "  0.3994555175304413,\n",
       "  0.3804168701171875,\n",
       "  0.3773922920227051,\n",
       "  0.3690876066684723,\n",
       "  0.36760732531547546,\n",
       "  0.3412945866584778,\n",
       "  0.3392416834831238,\n",
       "  0.3535290062427521,\n",
       "  0.32615694403648376,\n",
       "  0.3317435681819916,\n",
       "  0.3349402844905853,\n",
       "  0.32186755537986755,\n",
       "  0.31311333179473877,\n",
       "  0.3200700879096985,\n",
       "  0.31623584032058716,\n",
       "  0.311635285615921,\n",
       "  0.3011243939399719,\n",
       "  0.3135075867176056,\n",
       "  0.3022494316101074,\n",
       "  0.31909698247909546,\n",
       "  0.2963807284832001,\n",
       "  0.29649481177330017,\n",
       "  0.29972508549690247,\n",
       "  0.2997838258743286,\n",
       "  0.3023827075958252,\n",
       "  0.29676124453544617,\n",
       "  0.3004644811153412],\n",
       " 'val_sparse_categorical_accuracy': [0.8320000171661377,\n",
       "  0.8274000287055969,\n",
       "  0.8596000075340271,\n",
       "  0.8623999953269958,\n",
       "  0.8690000176429749,\n",
       "  0.8697999715805054,\n",
       "  0.8715999722480774,\n",
       "  0.8691999912261963,\n",
       "  0.8781999945640564,\n",
       "  0.8835999965667725,\n",
       "  0.8733999729156494,\n",
       "  0.8845999836921692,\n",
       "  0.8822000026702881,\n",
       "  0.8763999938964844,\n",
       "  0.8853999972343445,\n",
       "  0.8899999856948853,\n",
       "  0.8866000175476074,\n",
       "  0.8889999985694885,\n",
       "  0.8895999789237976,\n",
       "  0.8895999789237976,\n",
       "  0.8876000046730042,\n",
       "  0.8930000066757202,\n",
       "  0.8870000243186951,\n",
       "  0.8930000066757202,\n",
       "  0.8944000005722046,\n",
       "  0.8912000060081482,\n",
       "  0.8920000195503235,\n",
       "  0.8913999795913696,\n",
       "  0.896399974822998,\n",
       "  0.8924000263214111]}"
      ]
     },
     "execution_count": 49,
     "metadata": {},
     "output_type": "execute_result"
    }
   ],
   "source": [
    "history.history"
   ]
  },
  {
   "cell_type": "markdown",
   "id": "74aab18a",
   "metadata": {},
   "source": [
    "# Model Evaluation"
   ]
  },
  {
   "cell_type": "code",
   "execution_count": 50,
   "id": "8fd11e9b",
   "metadata": {},
   "outputs": [
    {
     "name": "stdout",
     "output_type": "stream",
     "text": [
      "313/313 [==============================] - 1s 3ms/step - loss: 0.3286 - sparse_categorical_accuracy: 0.8847\n"
     ]
    },
    {
     "data": {
      "text/plain": [
       "[0.32858407497406006, 0.8847000002861023]"
      ]
     },
     "execution_count": 50,
     "metadata": {},
     "output_type": "execute_result"
    }
   ],
   "source": [
    "model.evaluate(X_test_image , y_test)"
   ]
  },
  {
   "cell_type": "markdown",
   "id": "938db293",
   "metadata": {},
   "source": [
    "# Using the model to make predictions"
   ]
  },
  {
   "cell_type": "code",
   "execution_count": 51,
   "id": "2aad9a4a",
   "metadata": {},
   "outputs": [
    {
     "data": {
      "text/plain": [
       "array([[0.  , 0.  , 0.  , 0.  , 0.  , 0.  , 0.  , 0.01, 0.  , 0.99],\n",
       "       [0.  , 0.  , 0.98, 0.  , 0.02, 0.  , 0.  , 0.  , 0.  , 0.  ],\n",
       "       [0.  , 1.  , 0.  , 0.  , 0.  , 0.  , 0.  , 0.  , 0.  , 0.  ]],\n",
       "      dtype=float32)"
      ]
     },
     "execution_count": 51,
     "metadata": {},
     "output_type": "execute_result"
    }
   ],
   "source": [
    "X_new= X_test_image[:3]\n",
    "y_pred_proba = model.predict(X_new)\n",
    "y_pred_proba.round(2)"
   ]
  },
  {
   "cell_type": "code",
   "execution_count": 55,
   "id": "6c940382",
   "metadata": {},
   "outputs": [],
   "source": [
    "# Predict the class instead"
   ]
  },
  {
   "cell_type": "code",
   "execution_count": null,
   "id": "6e45ef67",
   "metadata": {},
   "outputs": [],
   "source": [
    "y_pred_class= model.predict_classes(X_new)\n",
    "print(y_pred_class)"
   ]
  },
  {
   "cell_type": "code",
   "execution_count": 53,
   "id": "0cd73b15",
   "metadata": {
    "scrolled": true
   },
   "outputs": [
    {
     "name": "stdout",
     "output_type": "stream",
     "text": [
      "[9 2 1]\n"
     ]
    }
   ],
   "source": [
    "y_new= y_test[:3]\n",
    "print(y_new)"
   ]
  },
  {
   "cell_type": "code",
   "execution_count": 56,
   "id": "2980db07",
   "metadata": {},
   "outputs": [
    {
     "data": {
      "image/png": "[encoded data removed]",
      "text/plain": [
       "<Figure size 1080x720 with 3 Axes>"
      ]
     },
     "metadata": {
      "needs_background": "light"
     },
     "output_type": "display_data"
    }
   ],
   "source": [
    "import matplotlib.pyplot as plt\n",
    "%matplotlib inline\n",
    "\n",
    "plt.figure(figsize=(15 , 10))\n",
    "for i in range(3):\n",
    "    plt.subplot(5 , 5 , i+1)\n",
    "    plt.imshow(X_new[i])\n",
    "    plt.xlabel(class_names[y_test[i]])"
   ]
  },
  {
   "cell_type": "code",
   "execution_count": null,
   "id": "f1593db3",
   "metadata": {},
   "outputs": [],
   "source": []
  }
 ],
 "metadata": {
  "kernelspec": {
   "display_name": "Python 3",
   "language": "python",
   "name": "python3"
  },
  "language_info": {
   "codemirror_mode": {
    "name": "ipython",
    "version": 3
   },
   "file_extension": ".py",
   "mimetype": "text/x-python",
   "name": "python",
   "nbconvert_exporter": "python",
   "pygments_lexer": "ipython3",
   "version": "3.8.8"
  }
 },
 "nbformat": 4,
 "nbformat_minor": 5
}
